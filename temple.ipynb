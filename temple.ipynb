{
 "cells": [
  {
   "cell_type": "code",
   "execution_count": null,
   "id": "5715b99b",
   "metadata": {},
   "outputs": [],
   "source": [
    "#템플스테이\n",
    "\n",
    "print('HELLO')\n",
    "\n",
    "# 지역 시,도 별 템플 추천- 관련도 깊은 활동추천 \n",
    "# 예) 강원도 -  월정사/ 낙산사/오대산 템플스테이 자연경관과 하이킹/ 낙산사의 경우 서핑활동 제공\n",
    "# 하동 쌍계사 템플스테이- 차를 처음심은 '시배지'인 곳-> 전통 티클래스운영 중(천년을 이어온 차의 역사와 전통차체험)"
   ]
  },
  {
   "cell_type": "code",
   "execution_count": 1,
   "id": "4c6b68e9",
   "metadata": {},
   "outputs": [
    {
     "name": "stdout",
     "output_type": "stream",
     "text": [
      "1. LLM Inevitabilism\n",
      "2. tomrenner.com\n",
      "3. Happy 20th Birthday Django\n"
     ]
    }
   ],
   "source": [
    "import requests\n",
    "from bs4 import BeautifulSoup\n",
    "\n",
    "url = \"https://news.ycombinator.com/\"\n",
    "response = requests.get(url)\n",
    "\n",
    "soup = BeautifulSoup(response.text, 'html.parser')\n",
    "titles = soup.select('.titleline a')\n",
    "\n",
    "for i in range(3):\n",
    "    print(f\"{i+1}. {titles[i].text}\")"
   ]
  }
 ],
 "metadata": {
  "kernelspec": {
   "display_name": "Python 3",
   "language": "python",
   "name": "python3"
  },
  "language_info": {
   "codemirror_mode": {
    "name": "ipython",
    "version": 3
   },
   "file_extension": ".py",
   "mimetype": "text/x-python",
   "name": "python",
   "nbconvert_exporter": "python",
   "pygments_lexer": "ipython3",
   "version": "3.13.3"
  }
 },
 "nbformat": 4,
 "nbformat_minor": 5
}
