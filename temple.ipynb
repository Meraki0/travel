{
 "cells": [
  {
   "cell_type": "code",
   "execution_count": null,
   "id": "2fa49840",
   "metadata": {},
   "outputs": [],
   "source": [
    "#템플스테이"
   ]
  }
 ],
 "metadata": {
  "language_info": {
   "name": "python"
  }
 },
 "nbformat": 4,
 "nbformat_minor": 5
}
